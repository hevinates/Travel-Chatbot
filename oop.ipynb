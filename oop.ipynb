{
 "cells": [
  {
   "cell_type": "code",
   "execution_count": null,
   "id": "180a2e99",
   "metadata": {},
   "outputs": [
    {
     "name": "stdout",
     "output_type": "stream",
     "text": [
      "bank account info: \n",
      "name:hevin \n",
      "balance: 200\n"
     ]
    }
   ],
   "source": [
    "class Account:\n",
    "    def __init__(self, name, balance):\n",
    "        self.name = name\n",
    "        self.balance = balance\n",
    "        \n",
    "\n",
    "    def bank_info(self):\n",
    "        return f\"bank account info: \\nname:{self.name} \\nbalance: {self.balance}\"\n",
    "    \n",
    "ac1 = Account(\"hevin\",200)\n",
    "print(ac1.bank_info())"
   ]
  },
  {
   "cell_type": "code",
   "execution_count": 9,
   "id": "759459a0",
   "metadata": {},
   "outputs": [
    {
     "name": "stdout",
     "output_type": "stream",
     "text": [
      "100\n",
      "200\n",
      "value cannot be less than 0\n"
     ]
    }
   ],
   "source": [
    "class Account:\n",
    "    def __init__(self, balance=0):\n",
    "        self.balance = balance\n",
    "        \n",
    "    @property\n",
    "    def balance(self):\n",
    "        return self._balance\n",
    "    \n",
    "    @balance.setter\n",
    "    def balance(self,value):\n",
    "        if value < 0:\n",
    "            print(\"value cannot be less than 0\")\n",
    "        self._balance = value\n",
    "\n",
    "    def bank_info(self):\n",
    "        return f\"bank account info: \\nname:{self.name} \\nbalance: {self.balance}\"\n",
    "    \n",
    "h = Account(100)\n",
    "print(h.balance)\n",
    "\n",
    "h.balance = 200\n",
    "print(h.balance)\n",
    "\n",
    "h.balance = -5"
   ]
  },
  {
   "cell_type": "code",
   "execution_count": 12,
   "id": "114c360d",
   "metadata": {},
   "outputs": [
    {
     "name": "stdout",
     "output_type": "stream",
     "text": [
      "deneme\n"
     ]
    }
   ],
   "source": [
    "class Account:\n",
    "    def __init__(self, name):\n",
    "        self._name = name\n",
    "\n",
    "p = Account(\"deneme\")\n",
    "print(p._name)"
   ]
  },
  {
   "cell_type": "code",
   "execution_count": 14,
   "id": "10a196e0",
   "metadata": {},
   "outputs": [
    {
     "name": "stdout",
     "output_type": "stream",
     "text": [
      "deneme\n"
     ]
    }
   ],
   "source": [
    "class Account:\n",
    "    def __init__(self, name):\n",
    "        self.__name = name\n",
    "\n",
    "p = Account(\"deneme\")\n",
    "print(p._Account__name)"
   ]
  },
  {
   "cell_type": "code",
   "execution_count": null,
   "id": "e52239b8",
   "metadata": {},
   "outputs": [
    {
     "name": "stdout",
     "output_type": "stream",
     "text": [
      "my name is hevin \n",
      "I am 21 years old\n",
      "my salary is 5000\n"
     ]
    }
   ],
   "source": [
    "#inheritance\n",
    "\n",
    "class Person:\n",
    "    def __init__(self, name, age):\n",
    "        self.name = name\n",
    "        self.age = age\n",
    "\n",
    "    def introduce(self):\n",
    "        return f\"my name is {self.name} \\nI am {self.age} years old\\n\"\n",
    "    \n",
    "class Employee(Person):\n",
    "    def __init__(self, name, age, salary):\n",
    "        super().__init__(name, age)\n",
    "        self.salary = salary\n",
    "\n",
    "    def introduce(self):\n",
    "        base = super().introduce()\n",
    "        return f\"{base}my salary is {self.salary}\"\n",
    "    \n",
    "e = Employee(\"hevin\",21,5000)\n",
    "print(e.introduce())\n",
    "\n"
   ]
  },
  {
   "cell_type": "code",
   "execution_count": 21,
   "id": "6426abcf",
   "metadata": {},
   "outputs": [
    {
     "name": "stdout",
     "output_type": "stream",
     "text": [
      "[<class '__main__.D'>, <class '__main__.B'>, <class '__main__.C'>, <class '__main__.A'>, <class 'object'>]\n"
     ]
    }
   ],
   "source": [
    "#mro\n",
    "\n",
    "class A:\n",
    "    def f(self): return \"a\"\n",
    "\n",
    "class B(A):\n",
    "    def f(self): return \"b\"\n",
    "\n",
    "class C(A):\n",
    "    def f(self): return \"c\"\n",
    "\n",
    "class D(B, C):\n",
    "    pass\n",
    "\n",
    "print(D.mro())"
   ]
  },
  {
   "cell_type": "code",
   "execution_count": 35,
   "id": "58673b50",
   "metadata": {},
   "outputs": [
    {
     "name": "stdout",
     "output_type": "stream",
     "text": [
      "C init\n",
      "A init\n",
      "B init\n"
     ]
    }
   ],
   "source": [
    "class A:\n",
    "    def __init__(self):\n",
    "        print(\"A init\")\n",
    "        super().__init__()   \n",
    "\n",
    "class B:\n",
    "    def __init__(self):\n",
    "        print(\"B init\")\n",
    "        super().__init__()   \n",
    "\n",
    "class C(A, B):    \n",
    "    def __init__(self):\n",
    "        print(\"C init\")\n",
    "        super().__init__()   \n",
    "\n",
    "c = C()\n"
   ]
  },
  {
   "cell_type": "code",
   "execution_count": null,
   "id": "c61ff756",
   "metadata": {},
   "outputs": [
    {
     "name": "stdout",
     "output_type": "stream",
     "text": [
      "car has started\n",
      "car is moving\n",
      "bluetooth is connected\n",
      "music is playing\n"
     ]
    }
   ],
   "source": [
    "# mixin\n",
    "\n",
    "class Car:\n",
    "    def start(self):\n",
    "        print(\"car has started\")\n",
    "\n",
    "    def go(self):\n",
    "        print(\"car is moving\")\n",
    "\n",
    "class BluetoothMixin:\n",
    "    def connect(self):\n",
    "        print(\"bluetooth is connected\")\n",
    "\n",
    "    def play_music(self):\n",
    "        print(\"music is playing\")\n",
    "\n",
    "class BluetoothCar(Car, BluetoothMixin):\n",
    "    pass\n",
    "\n",
    "a = BluetoothCar()\n",
    "a.start()\n",
    "a.go()\n",
    "a.connect()\n",
    "a.play_music()"
   ]
  },
  {
   "cell_type": "code",
   "execution_count": 43,
   "id": "0fb74d4b",
   "metadata": {},
   "outputs": [
    {
     "name": "stdout",
     "output_type": "stream",
     "text": [
      "motor has started\n",
      "car is moving\n"
     ]
    }
   ],
   "source": [
    "# composition\n",
    "\n",
    "class Motor:\n",
    "    def start(self): \n",
    "        print(\"motor has started\")\n",
    "\n",
    "class Car:\n",
    "    def __init__(self, motor: Motor):\n",
    "        self.motor = motor\n",
    "\n",
    "    def go(self):\n",
    "        self.motor.start()\n",
    "        print(\"car is moving\")\n",
    "        \n",
    "m = Motor()\n",
    "c = Car(m)\n",
    "c.go()\n",
    "\n",
    "        "
   ]
  },
  {
   "cell_type": "code",
   "execution_count": null,
   "id": "47958c11",
   "metadata": {},
   "outputs": [
    {
     "name": "stdout",
     "output_type": "stream",
     "text": [
      "False\n",
      "Student(name='hevin', age=21)\n"
     ]
    }
   ],
   "source": [
    "from dataclasses import dataclass\n",
    "\n",
    "@dataclass\n",
    "class Student:\n",
    "    name: str\n",
    "    age: int\n",
    "\n",
    "s = Student(\"hevin\",21)\n",
    "s2 = Student(\"ahmet\",30)\n",
    "\n",
    "print(s==s2)\n",
    "print(s)"
   ]
  },
  {
   "cell_type": "code",
   "execution_count": 50,
   "id": "4bfc4abf",
   "metadata": {},
   "outputs": [
    {
     "name": "stdout",
     "output_type": "stream",
     "text": [
      "300 euro has been paid with credit card\n"
     ]
    }
   ],
   "source": [
    "# abstraction\n",
    "\n",
    "from abc import ABC, abstractmethod\n",
    "\n",
    "class PaymentMethod(ABC):\n",
    "    @abstractmethod\n",
    "    def pay(self,amount):  # all the subclasses must write this func\n",
    "        pass\n",
    "\n",
    "class CreditCard(PaymentMethod):\n",
    "    def pay(self, amount):\n",
    "        print(f\"{amount} euro has been paid with credit card\")\n",
    "\n",
    "class MoneyOrder(PaymentMethod):\n",
    "    def pay(self,amount):\n",
    "        print(f\"{amount} euro has been paid with money order\")\n",
    "\n",
    "\n",
    "cc = CreditCard()\n",
    "cc.pay(300)\n",
    "\n"
   ]
  },
  {
   "cell_type": "code",
   "execution_count": 54,
   "id": "3bc2a604",
   "metadata": {},
   "outputs": [
    {
     "name": "stdout",
     "output_type": "stream",
     "text": [
      "miyav\n"
     ]
    }
   ],
   "source": [
    "# polymorphism\n",
    "\n",
    "class Animal:\n",
    "    def say(self):\n",
    "        pass\n",
    "\n",
    "class Cat(Animal):\n",
    "    def say(self):\n",
    "        print(\"miyav\")\n",
    "    \n",
    "class Dog(Animal):\n",
    "    def say(self):\n",
    "        print(\"hav hav\")\n",
    "    \n",
    "h = Cat()\n",
    "h.say()\n",
    "\n"
   ]
  }
 ],
 "metadata": {
  "kernelspec": {
   "display_name": ".venv",
   "language": "python",
   "name": "python3"
  },
  "language_info": {
   "codemirror_mode": {
    "name": "ipython",
    "version": 3
   },
   "file_extension": ".py",
   "mimetype": "text/x-python",
   "name": "python",
   "nbconvert_exporter": "python",
   "pygments_lexer": "ipython3",
   "version": "3.13.7"
  }
 },
 "nbformat": 4,
 "nbformat_minor": 5
}
