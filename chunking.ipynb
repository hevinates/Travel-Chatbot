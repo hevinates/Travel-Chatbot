{
 "cells": [
  {
   "cell_type": "code",
   "execution_count": 33,
   "id": "14481b1d",
   "metadata": {},
   "outputs": [],
   "source": [
    "from more_itertools import chunked"
   ]
  },
  {
   "cell_type": "code",
   "execution_count": 59,
   "id": "49759937",
   "metadata": {},
   "outputs": [
    {
     "name": "stdout",
     "output_type": "stream",
     "text": [
      "meridian-islands/01-foundation/world-bible.md\n",
      "meridian-islands/02-geography/islands-geography.md\n",
      "meridian-islands/03-culture/culture-guide.md\n",
      "meridian-islands/04-transportation/getting-around.md\n",
      "meridian-islands/05-accommodations/accommodation-guide.md\n",
      "meridian-islands/05-accommodations/azure-peak-hotels.md\n",
      "meridian-islands/05-accommodations/budget-hostels.md\n",
      "meridian-islands/05-accommodations/coral-bay-hotels.md\n",
      "meridian-islands/05-accommodations/luxury-hotels.md\n",
      "meridian-islands/05-accommodations/mid-range-hotels.md\n",
      "meridian-islands/06-dining/coral-bay-luxury-restaurants.md\n",
      "meridian-islands/06-dining/coral-bay-restaurants.md\n",
      "meridian-islands/06-dining/coral-bay-street-food.md\n",
      "meridian-islands/06-dining/other-islands-dining.md\n",
      "meridian-islands/07-attractions/coral-bay-attractions.md\n"
     ]
    }
   ],
   "source": [
    "import glob\n",
    "\n",
    "exclude = ['./CLAUDE.md','./progress-tracker.md','./project-description.md']\n",
    "list_of_files = glob.glob('meridian-islands/**/*.md') \n",
    "filtered_list = []\n",
    "for a in list_of_files:\n",
    "    if a not in exclude:\n",
    "        filtered_list.append(a)\n",
    "\n",
    "filtered_list = sorted(filtered_list, key=lambda p: p.lower())\n",
    "for a in filtered_list:\n",
    "  print(a)\n",
    "\n",
    "markdown_string = \"\"\n",
    "for file_name in filtered_list:\n",
    "    with open(file_name, \"r\", encoding=\"utf-8\") as f:\n",
    "        markdown_string += f.read() \n",
    "\n",
    "with open(\"all_info.txt\", \"w\", encoding=\"utf-8\") as text_file:\n",
    "    text_file.write(markdown_string)"
   ]
  },
  {
   "cell_type": "code",
   "execution_count": 58,
   "id": "772c3323",
   "metadata": {},
   "outputs": [
    {
     "name": "stdout",
     "output_type": "stream",
     "text": [
      "['#', 'Meridian', 'Islands', 'World', 'Bible\\n*Master', 'Reference', 'Document', '-', 'All', 'content', 'must', 'align', 'with', 'these', 'established', 'facts*\\n\\n##', 'Archipelago', 'Overview\\n\\nThe', 'Meridian', 'Islands', 'are', 'a', 'sovereign', 'island', 'nation', 'located', 'in', 'the', 'South', 'Pacific', 'Ocean,', 'approximately', '2,100', 'kilometers', 'east', 'of', 'Australia', 'and', '1,800', 'kilometers', 'north', 'of', 'New', 'Zealand.', 'The', 'archipelago', 'consists', 'of', 'six', 'islands:', 'four', 'main', 'inhabited', 'islands', 'and', 'two', 'smaller', 'islets.\\n\\n###', 'The', 'Six', 'Islands\\n\\n1.', '**Coral', 'Bay', 'Island**', '(385', 'km²)', '-', 'The', 'capital', 'island', 'and', 'main', 'tourist', 'hub\\n2.', '**Azure', 'Peak', 'Island**', '(298', 'km²)', '-', 'Adventure', 'and', 'nature', 'tourism', 'center\\n3.', '**Amber', 'Cove', 'Island**', '(156', 'km²)', '-', 'Cultural', 'heartland', 'and', 'traditional', 'crafts\\n4.', '**Pearl', 'Shoals', 'Island**', '(122', 'km²)', '-', 'Fishing', 'industry', 'and', 'beach', 'resort', 'destination\\n5.', '**Little', 'Meridian', 'Islet**', '(18', 'km²)', '-', 'Nature', 'reserve', 'with', 'limited', 'eco-tourism\\n6.', '**Sunset', 'Rock', 'Islet**', '(7', 'km²)', '-', 'Uninhabited', 'bird', 'sanctuary\\n\\n##', 'Basic', 'Facts\\n\\n###', 'Currency\\n-', '**Official', 'Currency**:', 'Meridian', 'Dollar', '(MRD)\\n-', '**Exchange', 'Rate**:', '1', 'USD', '=', '1.35', 'MRD', '(relatively', 'stable)\\n-', '**Common', 'Denominations**:', 'Notes:', '5,', '10,', '20,', '50,', '100', 'MRD;', 'Coins:', '0.10,', '0.25,', '0.50,', '1,', '2', 'MRD\\n-', '**Credit', 'Cards**:', 'Widely', 'accepted', 'on', 'main', 'islands,', 'limited', 'on', 'smaller', 'islands\\n\\n###', 'Language\\n-', '**Official', 'Languages**:', 'English', 'and', 'Meridian', 'Creole\\n-', '**English', 'Proficiency**:', '95%', 'of', 'population', 'fluent\\n-', '**Meridian', 'Creole**:', 'Spoken', 'by', '70%', 'as', 'first', 'language,', 'English-based', 'with', 'Polynesian', 'influences\\n-', '**Common', 'Greetings**:', '\\n']\n"
     ]
    }
   ],
   "source": [
    "splitted_string = markdown_string.split(\" \")\n",
    "chunk = []\n",
    "for a in range(200):\n",
    "    chunk.append(splitted_string[a])\n",
    "print(chunk)"
   ]
  }
 ],
 "metadata": {
  "kernelspec": {
   "display_name": ".venv",
   "language": "python",
   "name": "python3"
  },
  "language_info": {
   "codemirror_mode": {
    "name": "ipython",
    "version": 3
   },
   "file_extension": ".py",
   "mimetype": "text/x-python",
   "name": "python",
   "nbconvert_exporter": "python",
   "pygments_lexer": "ipython3",
   "version": "3.13.7"
  }
 },
 "nbformat": 4,
 "nbformat_minor": 5
}
