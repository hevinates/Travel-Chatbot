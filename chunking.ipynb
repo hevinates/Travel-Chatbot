{
 "cells": [
  {
   "cell_type": "code",
   "execution_count": 17,
   "id": "49759937",
   "metadata": {},
   "outputs": [
    {
     "name": "stdout",
     "output_type": "stream",
     "text": [
      "meridian-islands/01-foundation/world-bible.md\n"
     ]
    }
   ],
   "source": [
    "import glob\n",
    "\n",
    "exclude = ['./CLAUDE.md','./progress-tracker.md','./project-description.md']\n",
    "list_of_files = glob.glob('meridian-islands/**/*.md') \n",
    "filtered_list = []\n",
    "for a in list_of_files:\n",
    "    if a not in exclude:\n",
    "        filtered_list.append(a)\n",
    "\n",
    "filtered_list = sorted(filtered_list)\n",
    "\n",
    "current_list = filtered_list[0]\n",
    "print(current_list)\n",
    "\n",
    "markdown_string = \" \"\n",
    "\n",
    "with open(current_list, \"r\", encoding=\"utf-8\") as f:\n",
    "    converted_text = f.read() \n",
    "\n",
    "with open(\"first.txt\", \"w\", encoding=\"utf-8\") as text_file:\n",
    "    text_file.write(converted_text)"
   ]
  },
  {
   "cell_type": "code",
   "execution_count": 42,
   "id": "b32c6f52",
   "metadata": {},
   "outputs": [
    {
     "name": "stdout",
     "output_type": "stream",
     "text": [
      "Chunk(text=['#', 'Meridian', 'Islands', 'World', 'Bible', '*Master', 'Reference', 'Document', '-', 'All', 'content', 'must', 'align', 'with', 'these', 'established', 'facts*', '##', 'Archipelago', 'Overview', 'The', 'Meridian', 'Islands', 'are', 'a'], chunk_id=0, start_pos=0, end_pos=24, word_count=25, origin_file='meridian-islands/01-foundation/world-bible.md')\n",
      "Chunk(text=['sovereign', 'island', 'nation', 'located', 'in', 'the', 'South', 'Pacific', 'Ocean,', 'approximately', '2,100', 'kilometers', 'east', 'of', 'Australia', 'and', '1,800', 'kilometers', 'north', 'of', 'New', 'Zealand.', 'The', 'archipelago', 'consists'], chunk_id=1, start_pos=25, end_pos=49, word_count=25, origin_file='meridian-islands/01-foundation/world-bible.md')\n"
     ]
    }
   ],
   "source": [
    "from dataclasses import dataclass\n",
    "\n",
    "@dataclass\n",
    "class Chunk:\n",
    "        text: str\n",
    "        chunk_id: int\n",
    "        start_pos: int\n",
    "        end_pos: int\n",
    "        word_count: int\n",
    "        origin_file: str\n",
    "\n",
    "\n",
    "class Chunker:\n",
    "    def __init__(self,chunk_size: int):\n",
    "        self.chunk_size = chunk_size\n",
    "       \n",
    "    def chunk(self, file_path: str) -> list[Chunk]:\n",
    "        with open(file_path, \"r\", encoding=\"utf-8\") as f:\n",
    "            converted_text = f.read()\n",
    "            \n",
    "        chunk_size = self.chunk_size\n",
    "        chunks = []\n",
    "        i=0\n",
    "        words = converted_text.split()  \n",
    "\n",
    "        for start in (range(0, len(words), chunk_size)):\n",
    "            end = min(start+chunk_size, len(words))\n",
    "            chunk = words[start:end]\n",
    "            chunks.append(\n",
    "                Chunk(\n",
    "                    text=chunk,\n",
    "                    chunk_id=i,\n",
    "                    start_pos=start,\n",
    "                    end_pos=end-1,\n",
    "                    word_count=len(chunk),\n",
    "                    origin_file=file_path\n",
    "                )\n",
    "            )\n",
    "            i += 1\n",
    "\n",
    "        return chunks\n",
    "    \n",
    "chunker: Chunker = Chunker(25)\n",
    "chunks: list = chunker.chunk(\"meridian-islands/01-foundation/world-bible.md\")\n",
    "\n",
    "for c in chunks[:2]:\n",
    "    print(c)\n"
   ]
  }
 ],
 "metadata": {
  "kernelspec": {
   "display_name": ".venv",
   "language": "python",
   "name": "python3"
  },
  "language_info": {
   "codemirror_mode": {
    "name": "ipython",
    "version": 3
   },
   "file_extension": ".py",
   "mimetype": "text/x-python",
   "name": "python",
   "nbconvert_exporter": "python",
   "pygments_lexer": "ipython3",
   "version": "3.13.7"
  }
 },
 "nbformat": 4,
 "nbformat_minor": 5
}
