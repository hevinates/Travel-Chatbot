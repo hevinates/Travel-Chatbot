{
 "cells": [
  {
   "cell_type": "code",
   "execution_count": 17,
   "id": "49759937",
   "metadata": {},
   "outputs": [
    {
     "name": "stdout",
     "output_type": "stream",
     "text": [
      "meridian-islands/01-foundation/world-bible.md\n"
     ]
    }
   ],
   "source": [
    "import glob\n",
    "\n",
    "exclude = ['./CLAUDE.md','./progress-tracker.md','./project-description.md']\n",
    "list_of_files = glob.glob('meridian-islands/**/*.md') \n",
    "filtered_list = []\n",
    "for a in list_of_files:\n",
    "    if a not in exclude:\n",
    "        filtered_list.append(a)\n",
    "\n",
    "filtered_list = sorted(filtered_list)\n",
    "\n",
    "current_list = filtered_list[0]\n",
    "print(current_list)\n",
    "\n",
    "markdown_string = \" \"\n",
    "\n",
    "with open(current_list, \"r\", encoding=\"utf-8\") as f:\n",
    "    converted_text = f.read() \n",
    "\n",
    "with open(\"first.txt\", \"w\", encoding=\"utf-8\") as text_file:\n",
    "    text_file.write(converted_text)"
   ]
  },
  {
   "cell_type": "code",
   "execution_count": null,
   "id": "b32c6f52",
   "metadata": {},
   "outputs": [
    {
     "data": {
      "text/plain": [
       "[Chunk_class.Chunk_attributes(text='# Meridian Islands World Bible\\n*Master Reference Document - All content must align with these established facts*\\n\\n## Archipelago Overview\\n\\nThe Meridian Islands are a sovereign island nation located in', chunk_id=2, start_pos=0, end_pos=199, char_count=200, origin_file='meridian-islands/01-foundation/world-bible.md'),\n",
       " Chunk_class.Chunk_attributes(text=' the South Pacific Ocean, approximately 2,100 kilometers east of Australia and 1,800 kilometers north of New Zealand. The archipelago consists of six islands: four main inhabited islands and two small', chunk_id=3, start_pos=200, end_pos=399, char_count=200, origin_file='meridian-islands/01-foundation/world-bible.md'),\n",
       " Chunk_class.Chunk_attributes(text='er islets.\\n\\n### The Six Islands\\n\\n1. **Coral Bay Island** (385 km²) - The capital island and main tourist hub\\n2. **Azure Peak Island** (298 km²) - Adventure and nature tourism center\\n3. **Amber Cove Is', chunk_id=4, start_pos=400, end_pos=599, char_count=200, origin_file='meridian-islands/01-foundation/world-bible.md'),\n",
       " Chunk_class.Chunk_attributes(text='land** (156 km²) - Cultural heartland and traditional crafts\\n4. **Pearl Shoals Island** (122 km²) - Fishing industry and beach resort destination\\n5. **Little Meridian Islet** (18 km²) - Nature reserve', chunk_id=5, start_pos=600, end_pos=799, char_count=200, origin_file='meridian-islands/01-foundation/world-bible.md'),\n",
       " Chunk_class.Chunk_attributes(text=' with limited eco-tourism\\n6. **Sunset Rock Islet** (7 km²) - Uninhabited bird sanctuary\\n\\n## Basic Facts\\n\\n### Currency\\n- **Official Currency**: Meridian Dollar (MRD)\\n- **Exchange Rate**: 1 USD = 1.35 M', chunk_id=6, start_pos=800, end_pos=999, char_count=200, origin_file='meridian-islands/01-foundation/world-bible.md'),\n",
       " Chunk_class.Chunk_attributes(text='RD (relatively stable)\\n- **Common Denominations**: Notes: 5, 10, 20, 50, 100 MRD; Coins: 0.10, 0.25, 0.50, 1, 2 MRD\\n- **Credit Cards**: Widely accepted on main islands, limited on smaller islands\\n\\n###', chunk_id=7, start_pos=1000, end_pos=1199, char_count=200, origin_file='meridian-islands/01-foundation/world-bible.md'),\n",
       " Chunk_class.Chunk_attributes(text=' Language\\n- **Official Languages**: English and Meridian Creole\\n- **English Proficiency**: 95% of population fluent\\n- **Meridian Creole**: Spoken by 70% as first language, English-based with Polynesia', chunk_id=8, start_pos=1200, end_pos=1399, char_count=200, origin_file='meridian-islands/01-foundation/world-bible.md'),\n",
       " Chunk_class.Chunk_attributes(text='n influences\\n- **Common Greetings**: \\n  - \"Bondia\" (Good day)\\n  - \"Tankyu\" (Thank you)\\n  - \"Wekom\" (Welcome)\\n\\n### Time Zone\\n- **Standard Time**: UTC+11 (Meridian Standard Time - MST)\\n- **No Daylight S', chunk_id=9, start_pos=1400, end_pos=1599, char_count=200, origin_file='meridian-islands/01-foundation/world-bible.md'),\n",
       " Chunk_class.Chunk_attributes(text='aving Time**\\n- **Business Hours**: Typically 8:00 AM - 5:00 PM Monday-Friday, 9:00 AM - 1:00 PM Saturday\\n\\n## Government and Politics\\n\\n### Government Type\\n- **System**: Parliamentary democracy with con', chunk_id=10, start_pos=1600, end_pos=1799, char_count=200, origin_file='meridian-islands/01-foundation/world-bible.md'),\n",
       " Chunk_class.Chunk_attributes(text='stitutional monarchy\\n- **Head of State**: British Monarch (represented by Governor-General)\\n- **Head of Government**: Prime Minister, elected every 4 years\\n- **Capital City**: Port Victoria (Coral Bay', chunk_id=11, start_pos=1800, end_pos=1999, char_count=200, origin_file='meridian-islands/01-foundation/world-bible.md'),\n",
       " Chunk_class.Chunk_attributes(text=' Island)\\n- **Administrative Divisions**: 4 island councils corresponding to main islands\\n\\n### Brief History\\n- **Pre-1600s**: Inhabited by Polynesian peoples for over 1,000 years\\n- **1743**: First Euro', chunk_id=12, start_pos=2000, end_pos=2199, char_count=200, origin_file='meridian-islands/01-foundation/world-bible.md'),\n",
       " Chunk_class.Chunk_attributes(text='pean contact by British explorer Captain James Meridian\\n- **1822**: Became British protectorate\\n- **1888**: Formal colonization as Crown Colony\\n- **1976**: Gained independence, joined Commonwealth\\n- *', chunk_id=13, start_pos=2200, end_pos=2399, char_count=200, origin_file='meridian-islands/01-foundation/world-bible.md'),\n",
       " Chunk_class.Chunk_attributes(text='*1985**: Tourism development begins\\n- **2010**: Sustainable Tourism Act passed, limiting development\\n\\n## Population and Demographics\\n\\n### Population Distribution\\n- **Total Population**: 287,000 (2023 ', chunk_id=14, start_pos=2400, end_pos=2599, char_count=200, origin_file='meridian-islands/01-foundation/world-bible.md'),\n",
       " Chunk_class.Chunk_attributes(text='census)\\n- **Coral Bay Island**: 125,000 (includes Port Victoria: 78,000)\\n- **Azure Peak Island**: 82,000\\n- **Amber Cove Island**: 48,000\\n- **Pearl Shoals Island**: 31,000\\n- **Little Meridian Islet**: ', chunk_id=15, start_pos=2600, end_pos=2799, char_count=200, origin_file='meridian-islands/01-foundation/world-bible.md'),\n",
       " Chunk_class.Chunk_attributes(text='1,000\\n- **Sunset Rock Islet**: Uninhabited\\n\\n### Main Cities and Towns\\n1. **Port Victoria** (Coral Bay) - Capital, main commercial center\\n2. **Lighthouse Bay** (Coral Bay) - Resort town, 28,000 residen', chunk_id=16, start_pos=2800, end_pos=2999, char_count=200, origin_file='meridian-islands/01-foundation/world-bible.md'),\n",
       " Chunk_class.Chunk_attributes(text=\"ts\\n3. **Summit Town** (Azure Peak) - Adventure tourism base, 35,000 residents\\n4. **Heritage Harbor** (Amber Cove) - Cultural center, 22,000 residents\\n5. **Fisherman's Point** (Pearl Shoals) - Main fis\", chunk_id=17, start_pos=3000, end_pos=3199, char_count=200, origin_file='meridian-islands/01-foundation/world-bible.md'),\n",
       " Chunk_class.Chunk_attributes(text='hing port, 18,000 residents\\n\\n## Climate and Geography\\n\\n### Climate Type\\n- **Classification**: Tropical maritime climate\\n- **Temperature Range**: 22-30°C (72-86°F) year-round\\n- **Wet Season**: November', chunk_id=18, start_pos=3200, end_pos=3399, char_count=200, origin_file='meridian-islands/01-foundation/world-bible.md'),\n",
       " Chunk_class.Chunk_attributes(text=' to April (summer)\\n- **Dry Season**: May to October (winter)\\n- **Best Visit Time**: April to October (cooler, less rain)\\n- **Hurricane Risk**: Low, outside main cyclone belt\\n\\n### Geographic Features\\n-', chunk_id=19, start_pos=3400, end_pos=3599, char_count=200, origin_file='meridian-islands/01-foundation/world-bible.md'),\n",
       " Chunk_class.Chunk_attributes(text=' **Highest Point**: Mount Azure (Azure Peak Island) - 1,247 meters\\n- **Total Coastline**: 485 kilometers\\n- **Coral Reefs**: Extensive reef system surrounds all islands\\n- **Natural Harbors**: 7 major p', chunk_id=20, start_pos=3600, end_pos=3799, char_count=200, origin_file='meridian-islands/01-foundation/world-bible.md'),\n",
       " Chunk_class.Chunk_attributes(text='rotected harbors\\n- **Volcanic Origin**: All islands formed from ancient volcanic activity (now dormant)\\n\\n## Cultural Overview\\n\\n### Cultural Heritage\\n- **Primary Influences**: Polynesian (60%), British', chunk_id=21, start_pos=3800, end_pos=3999, char_count=200, origin_file='meridian-islands/01-foundation/world-bible.md'),\n",
       " Chunk_class.Chunk_attributes(text=' Colonial (25%), Modern Global (15%)\\n- **Religion**: Christianity (65%), Traditional beliefs (20%), Non-religious (15%)\\n- **Family Structure**: Extended family networks important, multi-generational h', chunk_id=22, start_pos=4000, end_pos=4199, char_count=200, origin_file='meridian-islands/01-foundation/world-bible.md'),\n",
       " Chunk_class.Chunk_attributes(text='omes common\\n- **Social Values**: Community cooperation, respect for elders, environmental stewardship\\n\\n### Major Cultural Elements\\n- **Traditional Dance**: \"Wave Dancing\" - rhythmic movements mimickin', chunk_id=23, start_pos=4200, end_pos=4399, char_count=200, origin_file='meridian-islands/01-foundation/world-bible.md'),\n",
       " Chunk_class.Chunk_attributes(text='g ocean waves\\n- **National Sport**: Outrigger canoe racing\\n- **Traditional Craft**: Intricate shell jewelry and woven palm baskets\\n- **Music**: Blend of traditional drums with contemporary island regg', chunk_id=24, start_pos=4400, end_pos=4599, char_count=200, origin_file='meridian-islands/01-foundation/world-bible.md'),\n",
       " Chunk_class.Chunk_attributes(text='ae\\n- **Cuisine**: Seafood-based with tropical fruits, British influences in baked goods\\n\\n### Annual Festivals\\n- **Independence Day**: March 15 (National holiday)\\n- **Harvest of the Sea Festival**: Fir', chunk_id=25, start_pos=4600, end_pos=4799, char_count=200, origin_file='meridian-islands/01-foundation/world-bible.md'),\n",
       " Chunk_class.Chunk_attributes(text='st weekend of June\\n- **Meridian Cultural Week**: Last week of September\\n- **Christmas/New Year**: Major celebration period with unique local traditions\\n\\n## Tourism Development\\n\\n### Tourism Infrastruct', chunk_id=26, start_pos=4800, end_pos=4999, char_count=200, origin_file='meridian-islands/01-foundation/world-bible.md'),\n",
       " Chunk_class.Chunk_attributes(text='ure Level\\n- **Development Status**: Moderate to well-developed\\n- **Annual Visitors**: 425,000 (2023)\\n- **Tourism GDP Contribution**: 35%\\n- **Accommodation Range**: Luxury resorts to budget guesthouses', chunk_id=27, start_pos=5000, end_pos=5199, char_count=200, origin_file='meridian-islands/01-foundation/world-bible.md'),\n",
       " Chunk_class.Chunk_attributes(text='\\n- **Sustainability Focus**: Eco-tourism certification program since 2010\\n\\n### Tourism Distribution by Island\\n- **Coral Bay**: 60% of tourism infrastructure, main entry point\\n- **Azure Peak**: 25% foc', chunk_id=28, start_pos=5200, end_pos=5399, char_count=200, origin_file='meridian-islands/01-foundation/world-bible.md'),\n",
       " Chunk_class.Chunk_attributes(text='used on adventure/eco-tourism\\n- **Amber Cove**: 10% cultural tourism\\n- **Pearl Shoals**: 5% beach resorts and fishing tourism\\n- **Little Meridian**: Limited eco-lodges (50 visitors/day maximum)\\n- **Su', chunk_id=29, start_pos=5400, end_pos=5599, char_count=200, origin_file='meridian-islands/01-foundation/world-bible.md'),\n",
       " Chunk_class.Chunk_attributes(text='nset Rock**: Day trips only, no overnight stays\\n\\n### Entry Requirements\\n- **Main Airport**: Port Victoria International Airport (PVI)\\n- **Secondary Airport**: Azure Peak Regional Airport (APR)\\n- **Vis', chunk_id=30, start_pos=5600, end_pos=5799, char_count=200, origin_file='meridian-islands/01-foundation/world-bible.md'),\n",
       " Chunk_class.Chunk_attributes(text='a Policy**: Visa-free for 90 days for most Western countries\\n- **Entry Requirements**: Valid passport, return ticket, accommodation proof\\n\\n## Economy\\n\\n### Economic Overview\\n- **GDP per capita**: $18,5', chunk_id=31, start_pos=5800, end_pos=5999, char_count=200, origin_file='meridian-islands/01-foundation/world-bible.md'),\n",
       " Chunk_class.Chunk_attributes(text='00 USD\\n- **Main Industries**: Tourism (35%), Fishing (20%), Agriculture (15%), Services (30%)\\n- **Unemployment Rate**: 4.2%\\n- **Development Level**: Upper-middle income country\\n\\n### Key Exports\\n- **Ma', chunk_id=32, start_pos=6000, end_pos=6199, char_count=200, origin_file='meridian-islands/01-foundation/world-bible.md'),\n",
       " Chunk_class.Chunk_attributes(text='rine Products**: Tuna, lobster, pearl cultivation\\n- **Agricultural**: Coconut products, tropical fruits, vanilla\\n- **Handicrafts**: Traditional crafts for tourist market\\n\\n## Transportation Basics\\n\\n###', chunk_id=33, start_pos=6200, end_pos=6399, char_count=200, origin_file='meridian-islands/01-foundation/world-bible.md'),\n",
       " Chunk_class.Chunk_attributes(text=' Inter-Island Connections\\n- **Primary**: Government-operated ferry service (Meridian Marine Transport)\\n- **Secondary**: Small aircraft operated by Island Air Meridian\\n- **Journey Times**: Ferries 45 m', chunk_id=34, start_pos=6400, end_pos=6599, char_count=200, origin_file='meridian-islands/01-foundation/world-bible.md'),\n",
       " Chunk_class.Chunk_attributes(text='inutes to 3 hours; Flights 15-30 minutes\\n\\n### Main Ports and Airports\\n- **International Airport**: Port Victoria International (PVI)\\n- **Regional Airports**: One on each main island\\n- **Ferry Terminal', chunk_id=35, start_pos=6600, end_pos=6799, char_count=200, origin_file='meridian-islands/01-foundation/world-bible.md'),\n",
       " Chunk_class.Chunk_attributes(text=\"s**: Major terminals in each island's main town\\n- **Road Network**: Paved roads on main islands, some unpaved rural roads\\n\\n## Natural Resources and Environment\\n\\n### Natural Resources\\n- **Marine**: Ric\", chunk_id=36, start_pos=6800, end_pos=6999, char_count=200, origin_file='meridian-islands/01-foundation/world-bible.md'),\n",
       " Chunk_class.Chunk_attributes(text='h fishing grounds, some pearl cultivation\\n- **Agriculture**: Fertile volcanic soil, abundant rainfall\\n- **Minerals**: Limited, some phosphate deposits\\n- **Renewable Energy**: 40% renewable (solar, win', chunk_id=37, start_pos=7000, end_pos=7199, char_count=200, origin_file='meridian-islands/01-foundation/world-bible.md'),\n",
       " Chunk_class.Chunk_attributes(text='d), goal of 70% by 2030\\n\\n### Environmental Protection\\n- **Protected Areas**: 25% of land area, 15% of marine territory\\n- **Conservation Status**: Strong environmental laws since 2010\\n- **Key Concerns*', chunk_id=38, start_pos=7200, end_pos=7399, char_count=200, origin_file='meridian-islands/01-foundation/world-bible.md'),\n",
       " Chunk_class.Chunk_attributes(text='*: Coral reef protection, sustainable fishing, waste management\\n- **Unique Species**: 12 endemic bird species, 45 endemic plant species\\n\\n## Communication and Utilities\\n\\n### Communication Infrastructur', chunk_id=39, start_pos=7400, end_pos=7599, char_count=200, origin_file='meridian-islands/01-foundation/world-bible.md'),\n",
       " Chunk_class.Chunk_attributes(text='e\\n- **Internet**: Fiber optic on main islands, 4G coverage 85% of populated areas\\n- **Mobile Operators**: Two main providers (MeridianTel, IslandConnect)\\n- **International Dialing Code**: +684\\n\\n### Ut', chunk_id=40, start_pos=7600, end_pos=7799, char_count=200, origin_file='meridian-islands/01-foundation/world-bible.md'),\n",
       " Chunk_class.Chunk_attributes(text='ilities\\n- **Electricity**: 240V, 50Hz, British-style plugs (Type G)\\n- **Water**: Tap water safe on main islands, bottled recommended on islets\\n- **Healthcare**: Modern hospital in Port Victoria, clini', chunk_id=41, start_pos=7800, end_pos=7999, char_count=200, origin_file='meridian-islands/01-foundation/world-bible.md'),\n",
       " Chunk_class.Chunk_attributes(text='cs on each main island\\n\\n## Important Notes for Content Creation\\n\\nThis document establishes the foundational facts for the Meridian Islands. All subsequent documents must:\\n1. Reference these establishe', chunk_id=42, start_pos=8000, end_pos=8199, char_count=200, origin_file='meridian-islands/01-foundation/world-bible.md'),\n",
       " Chunk_class.Chunk_attributes(text='d facts consistently\\n2. Use the official names for islands, cities, and services\\n3. Maintain the established price levels and economic context\\n4. Respect the cultural and environmental values outlined', chunk_id=43, start_pos=8200, end_pos=8399, char_count=200, origin_file='meridian-islands/01-foundation/world-bible.md'),\n",
       " Chunk_class.Chunk_attributes(text='\\n5. Keep within the established geographic constraints and distances\\n6. Reflect the moderate development level - neither underdeveloped nor overdeveloped\\n\\n*Version 1.0 - Foundation Document - Do Not C', chunk_id=44, start_pos=8400, end_pos=8599, char_count=200, origin_file='meridian-islands/01-foundation/world-bible.md'),\n",
       " Chunk_class.Chunk_attributes(text='ontradict*', chunk_id=45, start_pos=8600, end_pos=8609, char_count=10, origin_file='meridian-islands/01-foundation/world-bible.md')]"
      ]
     },
     "execution_count": 26,
     "metadata": {},
     "output_type": "execute_result"
    }
   ],
   "source": [
    "from dataclasses import dataclass\n",
    "\n",
    "class Chunk_class:\n",
    "    def __init__(self,converted_text):\n",
    "        self.converted_text = converted_text\n",
    "        self.chunks = []\n",
    "\n",
    "    @dataclass\n",
    "    class Chunk_attributes:\n",
    "            text: str\n",
    "            chunk_id: int\n",
    "            start_pos: int\n",
    "            end_pos: int\n",
    "            char_count: int\n",
    "            origin_file: str\n",
    "                    \n",
    "\n",
    "    def create_chunk(self, converted_text):\n",
    "        chunks = []\n",
    "        i=0\n",
    "\n",
    "        for start in range(0,len(converted_text),200):\n",
    "            end = min(start+200, len(converted_text))\n",
    "            chunk = converted_text[start:end]\n",
    "        \n",
    "        for start in (range(0, len(converted_text), 200)):\n",
    "            end = min(start+200, len(converted_text))\n",
    "            chunk = converted_text[start:end]\n",
    "            i += 1\n",
    "            chunks.append(\n",
    "                Chunk_class.Chunk_attributes(\n",
    "                    text=chunk,\n",
    "                    chunk_id=i+1,\n",
    "                    start_pos=start,\n",
    "                    end_pos=end-1,\n",
    "                    char_count=len(chunk),\n",
    "                    origin_file=current_list\n",
    "                )\n",
    "\n",
    "            )\n",
    "        return chunks\n",
    "            \n",
    "a = Chunk_class(converted_text)\n",
    "a.create_chunk(converted_text)\n",
    "\n",
    "\n",
    "        "
   ]
  }
 ],
 "metadata": {
  "kernelspec": {
   "display_name": ".venv",
   "language": "python",
   "name": "python3"
  },
  "language_info": {
   "codemirror_mode": {
    "name": "ipython",
    "version": 3
   },
   "file_extension": ".py",
   "mimetype": "text/x-python",
   "name": "python",
   "nbconvert_exporter": "python",
   "pygments_lexer": "ipython3",
   "version": "3.13.7"
  }
 },
 "nbformat": 4,
 "nbformat_minor": 5
}
