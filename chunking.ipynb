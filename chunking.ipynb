{
 "cells": [
  {
   "cell_type": "code",
   "execution_count": 96,
   "id": "49759937",
   "metadata": {},
   "outputs": [
    {
     "name": "stdout",
     "output_type": "stream",
     "text": [
      "meridian-islands/01-foundation/world-bible.md\n"
     ]
    }
   ],
   "source": [
    "import glob\n",
    "\n",
    "exclude = ['./CLAUDE.md','./progress-tracker.md','./project-description.md']\n",
    "list_of_files = glob.glob('meridian-islands/**/*.md') \n",
    "filtered_list = []\n",
    "for a in list_of_files:\n",
    "    if a not in exclude:\n",
    "        filtered_list.append(a)\n",
    "\n",
    "filtered_list = sorted(filtered_list)\n",
    "\n",
    "current_list = filtered_list[0]\n",
    "print(current_list)\n",
    "\n",
    "markdown_string = \" \"\n",
    "\n",
    "with open(current_list, \"r\", encoding=\"utf-8\") as f:\n",
    "    first_text = f.read() \n",
    "\n",
    "with open(\"first.txt\", \"w\", encoding=\"utf-8\") as text_file:\n",
    "    text_file.write(first_text)"
   ]
  },
  {
   "cell_type": "code",
   "execution_count": 101,
   "id": "772c3323",
   "metadata": {},
   "outputs": [],
   "source": [
    "for start in range(0,len(first_text),200):\n",
    "    end = min(start+200, len(first_text))\n",
    "    chunk = first_text[start:end]\n",
    "\n",
    "chunks = []\n",
    "i=0\n",
    "for start in (range(0, len(first_text), 200)):\n",
    "    end = min(start+200, len(first_text))\n",
    "    chunk = first_text[start:end]\n",
    "    chunks.append({\n",
    "        \"text\": chunk,\n",
    "        \"chunk_id\": i+1,\n",
    "        \"start_pos\": start,\n",
    "        \"end_pos\": end-1,\n",
    "        \"char_count\": len(chunk),\n",
    "        \"origin_file\": current_list\n",
    "    })\n",
    "    i += 1\n",
    "\n"
   ]
  }
 ],
 "metadata": {
  "kernelspec": {
   "display_name": ".venv",
   "language": "python",
   "name": "python3"
  },
  "language_info": {
   "codemirror_mode": {
    "name": "ipython",
    "version": 3
   },
   "file_extension": ".py",
   "mimetype": "text/x-python",
   "name": "python",
   "nbconvert_exporter": "python",
   "pygments_lexer": "ipython3",
   "version": "3.13.7"
  }
 },
 "nbformat": 4,
 "nbformat_minor": 5
}
