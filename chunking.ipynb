{
 "cells": [
  {
   "cell_type": "code",
   "execution_count": 17,
   "id": "49759937",
   "metadata": {},
   "outputs": [
    {
     "name": "stdout",
     "output_type": "stream",
     "text": [
      "meridian-islands/01-foundation/world-bible.md\n"
     ]
    }
   ],
   "source": [
    "import glob\n",
    "\n",
    "exclude = ['./CLAUDE.md','./progress-tracker.md','./project-description.md']\n",
    "list_of_files = glob.glob('meridian-islands/**/*.md') \n",
    "filtered_list = []\n",
    "for a in list_of_files:\n",
    "    if a not in exclude:\n",
    "        filtered_list.append(a)\n",
    "\n",
    "filtered_list = sorted(filtered_list)\n",
    "\n",
    "current_list = filtered_list[0]\n",
    "print(current_list)\n",
    "\n",
    "markdown_string = \" \"\n",
    "\n",
    "with open(current_list, \"r\", encoding=\"utf-8\") as f:\n",
    "    converted_text = f.read() \n",
    "\n",
    "with open(\"first.txt\", \"w\", encoding=\"utf-8\") as text_file:\n",
    "    text_file.write(converted_text)"
   ]
  },
  {
   "cell_type": "code",
   "execution_count": 20,
   "id": "b32c6f52",
   "metadata": {},
   "outputs": [],
   "source": [
    "class Chunk_class:\n",
    "    def __init__(self,converted_text):\n",
    "        self.converted_text = converted_text\n",
    "        self.chunks = []\n",
    "        \n",
    "\n",
    "    def create_chunk(self, converted_text):\n",
    "        chunks = []\n",
    "        for start in range(0,len(converted_text),200):\n",
    "            end = min(start+200, len(converted_text))\n",
    "            chunk = converted_text[start:end]\n",
    "            \n",
    "        i=0\n",
    "        for start in (range(0, len(converted_text), 200)):\n",
    "            end = min(start+200, len(converted_text))\n",
    "            chunk = converted_text[start:end]\n",
    "            chunks.append({\n",
    "                \"text\": chunk,\n",
    "                \"chunk_id\": i+1,\n",
    "                \"start_pos\": start,\n",
    "                \"end_pos\": end-1,\n",
    "                \"char_count\": len(chunk),\n",
    "                \"origin_file\": current_list\n",
    "            })\n",
    "            i += 1\n",
    "\n",
    "    \n",
    "\n",
    "a = Chunk_class(converted_text)\n",
    "a.create_chunk(converted_text)\n",
    "\n",
    "        "
   ]
  }
 ],
 "metadata": {
  "kernelspec": {
   "display_name": ".venv",
   "language": "python",
   "name": "python3"
  },
  "language_info": {
   "codemirror_mode": {
    "name": "ipython",
    "version": 3
   },
   "file_extension": ".py",
   "mimetype": "text/x-python",
   "name": "python",
   "nbconvert_exporter": "python",
   "pygments_lexer": "ipython3",
   "version": "3.13.7"
  }
 },
 "nbformat": 4,
 "nbformat_minor": 5
}
